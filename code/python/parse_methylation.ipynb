{
 "cells": [
  {
   "cell_type": "code",
   "execution_count": 1,
   "metadata": {
    "collapsed": false
   },
   "outputs": [],
   "source": [
    "probes = {}\n",
    "with open(\"hm450_gene_annotations.tsv\") as in_handle:\n",
    "    with open(\"hm450_gene_annotations.bed\", \"w\") as out_handle:\n",
    "        h = in_handle.next().replace(\"\\\"\",\"\").strip().split(\"\\t\")\n",
    "        for line in in_handle:            \n",
    "            c = line.strip().replace(\"\\\"\",\"\").split(\"\\t\")\n",
    "            probes[c[0]] = c\n",
    "            print >>out_handle, \"\\t\".join(c[1:4] + [c[0],\".\",\"+\"] )\n",
    "          \n",
    "            "
   ]
  },
  {
   "cell_type": "code",
   "execution_count": 2,
   "metadata": {
    "collapsed": true
   },
   "outputs": [],
   "source": [
    "from pybedtools import BedTool\n",
    "\n",
    "meth = BedTool(\"hm450_gene_annotations.bed\")\n",
    "mirna = BedTool(\"/home/lpantano/orch/groups/seqcluster/data/annotation/hsa/hsa.gff3\")"
   ]
  },
  {
   "cell_type": "code",
   "execution_count": 9,
   "metadata": {
    "collapsed": false
   },
   "outputs": [],
   "source": [
    "ann = meth.intersect(mirna,wo=True)\n",
    "\n",
    "for line in ann:\n",
    "    if line[8] == \"miRNA_primary_transcript\":\n",
    "        precursor = line[14].split(\";\")[2].split(\"=\")[1]\n",
    "        probes[line[3]]=probes[line[3]] + [precursor]\n",
    "    \n",
    "with open(\"hm450_gene_annotations_w_mirna.tsv\", \"w\") as out_handle:\n",
    "    for p in probes:\n",
    "        print >>out_handle, \"\\t\".join(probes[p])\n",
    "            "
   ]
  },
  {
   "cell_type": "markdown",
   "metadata": {},
   "source": [
    "trying to map directly"
   ]
  },
  {
   "cell_type": "code",
   "execution_count": 91,
   "metadata": {
    "collapsed": false
   },
   "outputs": [
    {
     "name": "stdout",
     "output_type": "stream",
     "text": [
      "True\n",
      "True\n",
      "set(['hsa-let-7a-1'])\n",
      "set(['hsa-mir-129-1'])\n",
      "set(['hsa-mir-1270'])\n"
     ]
    }
   ],
   "source": [
    "from collections import defaultdict\n",
    "mirbase = {}\n",
    "syn = defaultdict(set)\n",
    "with open(\"/home/lpantano/orch/groups/seqcluster/data/mirbase/miRNA.str\") as in_handle:\n",
    "    for line in in_handle:\n",
    "        if line.startswith(\">hsa\"):\n",
    "            c = line.strip().split()\n",
    "            pre = c[0][1:]\n",
    "            m1 = c[2][1:].split(\":\")[0]\n",
    "            m2 = \"\"\n",
    "            if len(c) > 3:\n",
    "                m2 = c[3][1:].split(\":\")[0]\n",
    "            mirbase[pre] = m1 + \";\" + m2\n",
    "            syn_name_base = \"\".join(pre.split(\"-\")[1:3]).upper()\n",
    "            if pre.find(\"mir-203\") > -1:\n",
    "                print syn_name_base.endswith(\"A\") or syn_name_base.endswith(\"B\") or syn_name_base.endswith(\"C\")\n",
    "            syn[syn_name_base].add(pre)\n",
    "            number = pre.split(\"-\")\n",
    "            if len(number) > 3:\n",
    "                syn_name = syn_name_base + \"-\" + number[3]\n",
    "                syn[syn_name].add(pre)\n",
    "                syn_name = syn_name_base + number[3]\n",
    "                syn[syn_name].add(pre)\n",
    "                syn_name = syn_name_base[-1] + number[3]\n",
    "                syn[syn_name].add(pre)\n",
    "            if syn_name_base.endswith(\"A\") or syn_name_base.endswith(\"B\") or syn_name_base.endswith(\"C\"):\n",
    "                syn[syn_name_base[:-1]].add(pre)\n",
    "                if len(number) > 3:\n",
    "                    syn_name = syn_name_base[:-1] + \"-\" + number[3]\n",
    "                    syn[syn_name].add(pre)\n",
    "                    syn_name = syn_name_base[:-1] + number[3]\n",
    "                    syn[syn_name].add(pre)\n",
    "            \n",
    "print syn[\"LET7A1\"]\n",
    "print syn[\"MIR129-1\"]\n",
    "print syn[\"MIR1270\"]"
   ]
  },
  {
   "cell_type": "code",
   "execution_count": 94,
   "metadata": {
    "collapsed": false
   },
   "outputs": [],
   "source": [
    "with open(\"hm450_gene_annotations.tsv\") as in_handle:\n",
    "    with open(\"hm450_gene_annotations_mapped_mirns.tsv\", \"w\") as out_handle:\n",
    "\n",
    "        h = in_handle.next().replace(\"\\\"\",\"\").strip().split(\"\\t\")\n",
    "        for line in in_handle:            \n",
    "            c = line.strip().replace(\"\\\"\",\"\").split(\"\\t\")\n",
    "            find = []\n",
    "            if c[14].find(\"MIR\") > -1:\n",
    "                names = [n for n in c[14].split(\";\") if n.startswith(\"MIR\")]\n",
    "                new_names = []\n",
    "                for n in names:\n",
    "                    if n.find(\"LET\") > -1:\n",
    "                        n = n.replace(\"MIR\",\"\")\n",
    "                    n = n.replace(\"HG\",\"\")\n",
    "                    if n.startswith(\"LET\") and len(n)>6:\n",
    "                        for p in range(4,len(n)):\n",
    "                            new_names.append(n[:4] + n[p])\n",
    "                    else:\n",
    "                        new_names.append(n)\n",
    "                find = []\n",
    "                for n in new_names:\n",
    "                    \n",
    "                    if n in syn:\n",
    "                        find.extend(list(syn[n]))\n",
    "                    elif n.endswith(\"-1\"):\n",
    "                        if n[:-2] in syn:\n",
    "                            find.extend(list(syn[n[:-2]]))\n",
    "                    elif n[:-1] in syn:\n",
    "                        find.extend(list(syn[n[:-1]]))\n",
    "                    if n==\"MIR3545\":\n",
    "                        if \"MIR203B\" in syn:\n",
    "                            find.extend(list(syn[\"MIR203B\"]))\n",
    "                    if not find:\n",
    "                        print n\n",
    "                        raise ValueError(n)\n",
    "\n",
    "                print >>out_handle, line.strip() + \"\\t\" + \";\".join([mirbase[p] for p in find])\n"
   ]
  }
 ],
 "metadata": {
  "kernelspec": {
   "display_name": "Python 2",
   "language": "python",
   "name": "python2"
  },
  "language_info": {
   "codemirror_mode": {
    "name": "ipython",
    "version": 2
   },
   "file_extension": ".py",
   "mimetype": "text/x-python",
   "name": "python",
   "nbconvert_exporter": "python",
   "pygments_lexer": "ipython2",
   "version": "2.7.10"
  }
 },
 "nbformat": 4,
 "nbformat_minor": 0
}
