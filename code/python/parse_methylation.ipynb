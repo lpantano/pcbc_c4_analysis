{
 "cells": [
  {
   "cell_type": "code",
   "execution_count": 15,
   "metadata": {
    "collapsed": false
   },
   "outputs": [
    {
     "name": "stdout",
     "output_type": "stream",
     "text": [
      "Welcome, Lorena Pantano!\n"
     ]
    }
   ],
   "source": [
    "import synapseclient\n",
    "from synapseclient import File\n",
    "syn = synapseclient.Synapse()\n",
    "\n",
    "syn.login()"
   ]
  },
  {
   "cell_type": "code",
   "execution_count": 3,
   "metadata": {
    "collapsed": false
   },
   "outputs": [
    {
     "name": "stdout",
     "output_type": "stream",
     "text": [
      "Downloaded   [####################]100.00%     82.1MB/82.1MB hm450_gene_annotations.tsv Done...\n",
      "    "
     ]
    }
   ],
   "source": [
    "\n",
    "entity = syn.get('syn2324928')\n"
   ]
  },
  {
   "cell_type": "markdown",
   "metadata": {
    "collapsed": false
   },
   "source": [
    "probes = {}\n",
    "with open(entity.path)) as in_handle:\n",
    "    with open(\"../../data/hm450_gene_annotations.bed\", \"w\") as out_handle:\n",
    "        h = in_handle.next().replace(\"\\\"\",\"\").strip().split(\"\\t\")\n",
    "        for line in in_handle:            \n",
    "            c = line.strip().replace(\"\\\"\",\"\").split(\"\\t\")\n",
    "            probes[c[0]] = c\n",
    "            print >>out_handle, \"\\t\".join(c[1:4] + [c[0],\".\",\"+\"] )\n",
    "          \n",
    "            "
   ]
  },
  {
   "cell_type": "markdown",
   "metadata": {
    "collapsed": true
   },
   "source": [
    "from pybedtools import BedTool\n",
    "\n",
    "meth = BedTool(\"hm450_gene_annotations.bed\")\n",
    "mirna = BedTool(\"/home/lpantano/orch/groups/seqcluster/data/annotation/hsa/hsa.gff3\")"
   ]
  },
  {
   "cell_type": "markdown",
   "metadata": {
    "collapsed": false
   },
   "source": [
    "ann = meth.intersect(mirna,wo=True)\n",
    "\n",
    "for line in ann:\n",
    "    if line[8] == \"miRNA_primary_transcript\":\n",
    "        precursor = line[14].split(\";\")[2].split(\"=\")[1]\n",
    "        probes[line[3]]=probes[line[3]] + [precursor]\n",
    "    \n",
    "with open(\"../../data/hm450_gene_annotations_w_mirna.tsv\", \"w\") as out_handle:\n",
    "    for p in probes:\n",
    "        print >>out_handle, \"\\t\".join(probes[p])\n",
    "            "
   ]
  },
  {
   "cell_type": "markdown",
   "metadata": {},
   "source": [
    "trying to map directly"
   ]
  },
  {
   "cell_type": "code",
   "execution_count": 11,
   "metadata": {
    "collapsed": false
   },
   "outputs": [
    {
     "name": "stdout",
     "output_type": "stream",
     "text": [
      "set(['hsa-let-7a-1'])\n",
      "set(['hsa-mir-129-1'])\n",
      "set(['hsa-mir-1270'])\n"
     ]
    }
   ],
   "source": [
    "from collections import defaultdict\n",
    "mirbase = {}\n",
    "synm = defaultdict(set)\n",
    "with open(\"../../data/miRNA.str\") as in_handle:\n",
    "    for line in in_handle:\n",
    "        if line.startswith(\">hsa\"):\n",
    "            c = line.strip().split()\n",
    "            pre = c[0][1:]\n",
    "            m1 = c[2][1:].split(\":\")[0]\n",
    "            m2 = \"\"\n",
    "            if len(c) > 3:\n",
    "                m2 = c[3][1:].split(\":\")[0]\n",
    "            mirbase[pre] = [m1, m2]\n",
    "            syn_name_base = \"\".join(pre.split(\"-\")[1:3]).upper()\n",
    "            # if pre.find(\"mir-203\") > -1:\n",
    "            #    print syn_name_base.endswith(\"A\") or syn_name_base.endswith(\"B\") or syn_name_base.endswith(\"C\")\n",
    "            synm[syn_name_base].add(pre)\n",
    "            number = pre.split(\"-\")\n",
    "            if len(number) > 3:\n",
    "                syn_name = syn_name_base + \"-\" + number[3]\n",
    "                synm[syn_name].add(pre)\n",
    "                syn_name = syn_name_base + number[3]\n",
    "                synm[syn_name].add(pre)\n",
    "                syn_name = syn_name_base[-1] + number[3]\n",
    "                synm[syn_name].add(pre)\n",
    "            if syn_name_base.endswith(\"A\") or syn_name_base.endswith(\"B\") or syn_name_base.endswith(\"C\"):\n",
    "                synm[syn_name_base[:-1]].add(pre)\n",
    "                if len(number) > 3:\n",
    "                    syn_name = syn_name_base[:-1] + \"-\" + number[3]\n",
    "                    synm[syn_name].add(pre)\n",
    "                    syn_name = syn_name_base[:-1] + number[3]\n",
    "                    synm[syn_name].add(pre)\n",
    "            \n",
    "print synm[\"LET7A1\"]\n",
    "print synm[\"MIR129-1\"]\n",
    "print synm[\"MIR1270\"]"
   ]
  },
  {
   "cell_type": "code",
   "execution_count": 13,
   "metadata": {
    "collapsed": false
   },
   "outputs": [],
   "source": [
    "new_file = \"../../data/hm450_gene_annotations_mapped_mirna.tsv\"\n",
    "with open(entity.path) as in_handle:\n",
    "    with open(new_file, \"w\") as out_handle:\n",
    "\n",
    "        h = in_handle.next().replace(\"\\\"\",\"\").strip().split(\"\\t\")\n",
    "        for line in in_handle:            \n",
    "            c = line.strip().replace(\"\\\"\",\"\").split(\"\\t\")\n",
    "            find = []\n",
    "            if c[14].find(\"MIR\") > -1:\n",
    "                names = [n for n in c[14].split(\";\") if n.startswith(\"MIR\")]\n",
    "                new_names = []\n",
    "                for n in names:\n",
    "                    if n.find(\"LET\") > -1:\n",
    "                        n = n.replace(\"MIR\",\"\")\n",
    "                    n = n.replace(\"HG\",\"\")\n",
    "                    if n.startswith(\"LET\") and len(n)>6:\n",
    "                        for p in range(4,len(n)):\n",
    "                            new_names.append(n[:4] + n[p])\n",
    "                    else:\n",
    "                        new_names.append(n)\n",
    "                find = []\n",
    "                for n in new_names:\n",
    "                    \n",
    "                    if n in synm:\n",
    "                        find.extend(list(synm[n]))\n",
    "                    elif n.endswith(\"-1\"):\n",
    "                        if n[:-2] in synm:\n",
    "                            find.extend(list(synm[n[:-2]]))\n",
    "                    elif n[:-1] in synm:\n",
    "                        find.extend(list(synm[n[:-1]]))\n",
    "                    if n==\"MIR3545\":\n",
    "                        if \"MIR203B\" in synm:\n",
    "                            find.extend(list(synm[\"MIR203B\"]))\n",
    "                    if not find:\n",
    "                        print n\n",
    "                        raise ValueError(n)\n",
    "                for p in find:\n",
    "                    for m in mirbase[p]:\n",
    "                        if m:\n",
    "                            print >>out_handle, line.split()[0][1:-1] + \"\\t\" + m\n"
   ]
  },
  {
   "cell_type": "code",
   "execution_count": 16,
   "metadata": {
    "collapsed": false
   },
   "outputs": [
    {
     "ename": "KeyError",
     "evalue": "'activity'",
     "output_type": "error",
     "traceback": [
      "\u001b[1;31m---------------------------------------------------------------------------\u001b[0m",
      "\u001b[1;31mKeyError\u001b[0m                                  Traceback (most recent call last)",
      "\u001b[1;32m<ipython-input-16-3446f3859175>\u001b[0m in \u001b[0;36m<module>\u001b[1;34m()\u001b[0m\n\u001b[0;32m      1\u001b[0m \u001b[0mnew_entity\u001b[0m \u001b[1;33m=\u001b[0m \u001b[0mFile\u001b[0m\u001b[1;33m(\u001b[0m\u001b[0mnew_file\u001b[0m\u001b[1;33m,\u001b[0m \u001b[0mdescription\u001b[0m\u001b[1;33m=\u001b[0m\u001b[1;34m'Methylation miRNA mapping'\u001b[0m\u001b[1;33m,\u001b[0m \u001b[0mparent\u001b[0m\u001b[1;33m=\u001b[0m\u001b[1;34m\"syn3484870\"\u001b[0m\u001b[1;33m)\u001b[0m\u001b[1;33m\u001b[0m\u001b[0m\n\u001b[1;32m----> 2\u001b[1;33m \u001b[0mnew_entity\u001b[0m\u001b[1;33m.\u001b[0m\u001b[0mactivity\u001b[0m\u001b[1;33m.\u001b[0m\u001b[0mused\u001b[0m\u001b[1;33m(\u001b[0m\u001b[1;34m'syn2324928'\u001b[0m\u001b[1;33m)\u001b[0m\u001b[1;33m\u001b[0m\u001b[0m\n\u001b[0m\u001b[0;32m      3\u001b[0m \u001b[1;31m#new_entity = syn.store(new_entity)\u001b[0m\u001b[1;33m\u001b[0m\u001b[1;33m\u001b[0m\u001b[0m\n",
      "\u001b[1;32m/home/lpantano/soft/myconda/lib/python2.7/site-packages/synapseclient/entity.pyc\u001b[0m in \u001b[0;36m__getattr__\u001b[1;34m(self, key)\u001b[0m\n\u001b[0;32m    308\u001b[0m         \u001b[1;31m# Note: that __getattr__ is only called after an attempt to\u001b[0m\u001b[1;33m\u001b[0m\u001b[1;33m\u001b[0m\u001b[0m\n\u001b[0;32m    309\u001b[0m         \u001b[1;31m# look the key up in the object's dictionary has failed.\u001b[0m\u001b[1;33m\u001b[0m\u001b[1;33m\u001b[0m\u001b[0m\n\u001b[1;32m--> 310\u001b[1;33m         \u001b[1;32mreturn\u001b[0m \u001b[0mself\u001b[0m\u001b[1;33m.\u001b[0m\u001b[0m__getitem__\u001b[0m\u001b[1;33m(\u001b[0m\u001b[0mkey\u001b[0m\u001b[1;33m)\u001b[0m\u001b[1;33m\u001b[0m\u001b[0m\n\u001b[0m\u001b[0;32m    311\u001b[0m \u001b[1;33m\u001b[0m\u001b[0m\n\u001b[0;32m    312\u001b[0m \u001b[1;33m\u001b[0m\u001b[0m\n",
      "\u001b[1;32m/home/lpantano/soft/myconda/lib/python2.7/site-packages/synapseclient/entity.pyc\u001b[0m in \u001b[0;36m__getitem__\u001b[1;34m(self, key)\u001b[0m\n\u001b[0;32m    319\u001b[0m             \u001b[1;32mreturn\u001b[0m \u001b[0mself\u001b[0m\u001b[1;33m.\u001b[0m\u001b[0mannotations\u001b[0m\u001b[1;33m[\u001b[0m\u001b[0mkey\u001b[0m\u001b[1;33m]\u001b[0m\u001b[1;33m\u001b[0m\u001b[0m\n\u001b[0;32m    320\u001b[0m         \u001b[1;32melse\u001b[0m\u001b[1;33m:\u001b[0m\u001b[1;33m\u001b[0m\u001b[0m\n\u001b[1;32m--> 321\u001b[1;33m             \u001b[1;32mraise\u001b[0m \u001b[0mKeyError\u001b[0m\u001b[1;33m(\u001b[0m\u001b[0mkey\u001b[0m\u001b[1;33m)\u001b[0m\u001b[1;33m\u001b[0m\u001b[0m\n\u001b[0m\u001b[0;32m    322\u001b[0m \u001b[1;33m\u001b[0m\u001b[0m\n\u001b[0;32m    323\u001b[0m     \u001b[1;32mdef\u001b[0m \u001b[0m__delitem__\u001b[0m\u001b[1;33m(\u001b[0m\u001b[0mself\u001b[0m\u001b[1;33m,\u001b[0m \u001b[0mkey\u001b[0m\u001b[1;33m)\u001b[0m\u001b[1;33m:\u001b[0m\u001b[1;33m\u001b[0m\u001b[0m\n",
      "\u001b[1;31mKeyError\u001b[0m: 'activity'"
     ]
    }
   ],
   "source": [
    "new_entity = File(new_file, description='Methylation miRNA mapping', parent=\"syn3484870\")\n",
    "new_entity.activity.used('syn2324928')\n",
    "#new_entity = syn.store(new_entity)"
   ]
  }
 ],
 "metadata": {
  "kernelspec": {
   "display_name": "Python 2",
   "language": "python",
   "name": "python2"
  },
  "language_info": {
   "codemirror_mode": {
    "name": "ipython",
    "version": 2
   },
   "file_extension": ".py",
   "mimetype": "text/x-python",
   "name": "python",
   "nbconvert_exporter": "python",
   "pygments_lexer": "ipython2",
   "version": "2.7.10"
  }
 },
 "nbformat": 4,
 "nbformat_minor": 0
}
